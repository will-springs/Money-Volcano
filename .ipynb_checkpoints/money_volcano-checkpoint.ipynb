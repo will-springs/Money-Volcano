{
 "cells": [
  {
   "cell_type": "markdown",
   "id": "7df36816",
   "metadata": {},
   "source": [
    "# Money Volcano Results"
   ]
  },
  {
   "cell_type": "markdown",
   "id": "69841557",
   "metadata": {},
   "source": [
    "In this project, I have imported some data I downloaded from my TDAmeritrade \"PaperMoney\" simulation trading accounts. One account is named \"Margin\" and the other is named \"IRA.\" I had been running a trading strategy simulation I created and which I call \"Money Volcano,\" and I wanted to use Matplotlib to present the results of Money Volcano to my wife and other family members."
   ]
  },
  {
   "cell_type": "code",
   "execution_count": 1,
   "id": "8cbf28f3",
   "metadata": {},
   "outputs": [],
   "source": [
    "import matplotlib as mpl\n",
    "import numpy as np\n",
    "import matplotlib.pyplot as plt\n",
    "import pandas as pd\n",
    "# import seaborn as sns"
   ]
  },
  {
   "cell_type": "code",
   "execution_count": 2,
   "id": "d5de7fa1",
   "metadata": {},
   "outputs": [],
   "source": [
    "margin = pd.read_csv('2023-04-24-AccountStatement-MARGIN.csv')\n",
    "ira = pd.read_csv('2023-04-24-AccountStatement-IRA.csv')"
   ]
  },
  {
   "cell_type": "code",
   "execution_count": 3,
   "id": "bcbbc8f3",
   "metadata": {},
   "outputs": [
    {
     "name": "stdout",
     "output_type": "stream",
     "text": [
      "      DATE      TIME TYPE         REF #  \\\n",
      "0  1/20/23  00:00:00  BAL           NaN   \n",
      "1  1/20/23  08:31:13  TRD  1.617658e+09   \n",
      "2  1/20/23  09:57:24  TRD  1.617986e+09   \n",
      "3  1/20/23  09:58:05  TRD  1.617983e+09   \n",
      "4  1/21/23  00:00:00  BAL           NaN   \n",
      "\n",
      "                                         DESCRIPTION  Misc Fees  \\\n",
      "0  Cash balance at the start of business day 20.0...        NaN   \n",
      "1  tAndroid SOLD -3 SPY 100 20 JAN 23 390 CALL @1.19      -0.03   \n",
      "2  tAndroid SOLD -3 DIAGONAL SPY 100 (Weeklys) 23...      -0.05   \n",
      "3  tAndroid SOLD -3 DIAGONAL SPY 100 (Weeklys) 23...      -0.05   \n",
      "4  Cash balance at the start of business day 21.0...        NaN   \n",
      "\n",
      "   Commissions & Fees  AMOUNT     BALANCE  \n",
      "0                 NaN     NaN  215,427.21  \n",
      "1               -1.95  357.00  215,782.23  \n",
      "2               -3.90  -60.00  215,718.28  \n",
      "3               -3.90  -54.00  215,660.33  \n",
      "4                 NaN     NaN  215,660.33  \n"
     ]
    }
   ],
   "source": [
    "print(margin.head())"
   ]
  },
  {
   "cell_type": "code",
   "execution_count": 4,
   "id": "cdcc506c",
   "metadata": {},
   "outputs": [
    {
     "name": "stdout",
     "output_type": "stream",
     "text": [
      "      DATE      TIME TYPE         REF #  \\\n",
      "1  1/20/23  08:31:13  TRD  1.617658e+09   \n",
      "2  1/20/23  09:57:24  TRD  1.617986e+09   \n",
      "3  1/20/23  09:58:05  TRD  1.617983e+09   \n",
      "7  1/23/23  10:26:48  TRD  1.618935e+09   \n",
      "8  1/23/23  10:28:37  TRD  1.618937e+09   \n",
      "\n",
      "                                         DESCRIPTION  Misc Fees  \\\n",
      "1  tAndroid SOLD -3 SPY 100 20 JAN 23 390 CALL @1.19      -0.03   \n",
      "2  tAndroid SOLD -3 DIAGONAL SPY 100 (Weeklys) 23...      -0.05   \n",
      "3  tAndroid SOLD -3 DIAGONAL SPY 100 (Weeklys) 23...      -0.05   \n",
      "7  tAndroid SOLD -3 DIAGONAL SPY 100 24 JAN 23/23...      -0.08   \n",
      "8  tAndroid SOLD -3 DIAGONAL SPY 100 24 JAN 23/23...      -0.05   \n",
      "\n",
      "   Commissions & Fees   AMOUNT     BALANCE  \n",
      "1               -1.95   357.00  215,782.23  \n",
      "2               -3.90   -60.00  215,718.28  \n",
      "3               -3.90   -54.00  215,660.33  \n",
      "7               -3.90  -513.00  215,143.35  \n",
      "8               -3.90    69.00  215,208.40  \n"
     ]
    }
   ],
   "source": [
    "# sort by Age and Salary columns in ascending order\n",
    "# margin_sorted = margin.sort_values(['TYPE'])\n",
    "margin_trades = margin[margin['TYPE'] == 'TRD']\n",
    "# print the sorted dataframe\n",
    "print(margin_trades.head())"
   ]
  },
  {
   "cell_type": "code",
   "execution_count": 5,
   "id": "d552c621",
   "metadata": {},
   "outputs": [
    {
     "name": "stdout",
     "output_type": "stream",
     "text": [
      "      DATE      TIME TYPE         REF #  \\\n",
      "1  1/20/23  10:02:19  TRD  1.617992e+09   \n",
      "2  1/20/23  10:02:19  TRD  1.617992e+09   \n",
      "6  1/23/23  09:40:53  TRD  1.618845e+09   \n",
      "7  1/23/23  09:42:51  TRD  1.618848e+09   \n",
      "9  1/24/23  11:40:13  TRD  1.619876e+09   \n",
      "\n",
      "                                         DESCRIPTION  Misc Fees  \\\n",
      "1  tAndroid SOLD -5 DIAGONAL SPY 100 (Weeklys) 23...      -0.07   \n",
      "2  tAndroid SOLD -5 CALENDAR SPY 100 (Weeklys) 23...      -0.07   \n",
      "6  tAndroid SOLD -5 DIAGONAL SPY 100 24 JAN 23/23...      -0.11   \n",
      "7  tAndroid SOLD -5 DIAGONAL SPY 100 24 JAN 23/23...      -0.07   \n",
      "9  tAndroid SOLD -5 DIAGONAL SPY 100 (Weeklys) 25...      -0.10   \n",
      "\n",
      "   Commissions & Fees   AMOUNT    BALANCE  \n",
      "1                -6.5   -85.00  26,908.98  \n",
      "2                -6.5   390.00  27,292.41  \n",
      "6                -6.5  -805.00  26,480.80  \n",
      "7                -6.5   205.00  26,679.23  \n",
      "9                -6.5  -740.00  25,932.63  \n"
     ]
    }
   ],
   "source": [
    "# sort by Age and Salary columns in ascending order\n",
    "# margin_sorted = margin.sort_values(['TYPE'])\n",
    "ira_trades = ira[ira['TYPE'] == 'TRD']\n",
    "# print the sorted dataframe\n",
    "print(ira_trades.head())"
   ]
  },
  {
   "cell_type": "code",
   "execution_count": 6,
   "id": "09997bc1",
   "metadata": {},
   "outputs": [
    {
     "name": "stdout",
     "output_type": "stream",
     "text": [
      "137\n"
     ]
    }
   ],
   "source": [
    "print(len(ira_trades))"
   ]
  },
  {
   "cell_type": "code",
   "execution_count": 7,
   "id": "53664644",
   "metadata": {},
   "outputs": [
    {
     "name": "stdout",
     "output_type": "stream",
     "text": [
      "      DATE  Misc Fees  Commissions & Fees   AMOUNT     BALANCE\n",
      "1  1/20/23      -0.03               -1.95   357.00  215,782.23\n",
      "2  1/20/23      -0.05               -3.90   -60.00  215,718.28\n",
      "3  1/20/23      -0.05               -3.90   -54.00  215,660.33\n",
      "7  1/23/23      -0.08               -3.90  -513.00  215,143.35\n",
      "8  1/23/23      -0.05               -3.90    69.00  215,208.40\n"
     ]
    }
   ],
   "source": [
    "margin_calc = margin_trades.loc[:, ['DATE', 'Misc Fees', 'Commissions & Fees', 'AMOUNT', 'BALANCE']]\n",
    "print(margin_calc.head())"
   ]
  },
  {
   "cell_type": "code",
   "execution_count": 8,
   "id": "b0190589",
   "metadata": {},
   "outputs": [
    {
     "name": "stdout",
     "output_type": "stream",
     "text": [
      "      DATE  Misc Fees  Commissions & Fees   AMOUNT    BALANCE\n",
      "1  1/20/23      -0.07                -6.5   -85.00  26,908.98\n",
      "2  1/20/23      -0.07                -6.5   390.00  27,292.41\n",
      "6  1/23/23      -0.11                -6.5  -805.00  26,480.80\n",
      "7  1/23/23      -0.07                -6.5   205.00  26,679.23\n",
      "9  1/24/23      -0.10                -6.5  -740.00  25,932.63\n"
     ]
    }
   ],
   "source": [
    "ira_calc = ira_trades.loc[:, ['DATE', 'Misc Fees', 'Commissions & Fees', 'AMOUNT', 'BALANCE']]\n",
    "print(ira_calc.head())"
   ]
  },
  {
   "cell_type": "code",
   "execution_count": 9,
   "id": "56cef006",
   "metadata": {},
   "outputs": [],
   "source": [
    "# assign new column names using the rename method\n",
    "# df = df.rename(columns={'Name': 'Employee Name', 'Age': 'Employee Age', 'Salary': 'Employee Salary'})\n",
    "\n",
    "margin_calc = margin_calc.rename(columns={'DATE': 'Date', 'Misc Fees': 'Fees', 'Commissions & Fees': 'Commissions',\n",
    "                                          'AMOUNT': 'Amount', 'BALANCE': 'Balance'})"
   ]
  },
  {
   "cell_type": "code",
   "execution_count": 10,
   "id": "fae0f286",
   "metadata": {},
   "outputs": [],
   "source": [
    "# assign new column names using the rename method\n",
    "# df = df.rename(columns={'Name': 'Employee Name', 'Age': 'Employee Age', 'Salary': 'Employee Salary'})\n",
    "\n",
    "ira_calc = ira_calc.rename(columns={'DATE': 'Date', 'Misc Fees': 'Fees', 'Commissions & Fees': 'Commissions',\n",
    "                                          'AMOUNT': 'Amount', 'BALANCE': 'Balance'})"
   ]
  },
  {
   "cell_type": "code",
   "execution_count": 11,
   "id": "ff4d6195",
   "metadata": {},
   "outputs": [
    {
     "name": "stdout",
     "output_type": "stream",
     "text": [
      "       Date  Fees  Commissions     Amount    Balance\n",
      "1   1/20/23 -0.07         -6.5     -85.00  26,908.98\n",
      "2   1/20/23 -0.07         -6.5     390.00  27,292.41\n",
      "6   1/23/23 -0.11         -6.5    -805.00  26,480.80\n",
      "7   1/23/23 -0.07         -6.5     205.00  26,679.23\n",
      "9   1/24/23 -0.10         -6.5    -740.00  25,932.63\n",
      "10  1/24/23 -0.07         -6.5     245.00  26,171.06\n",
      "12  1/25/23 -0.07         -6.5     525.00  26,689.49\n",
      "13  1/25/23 -0.07         -6.5     -85.00  26,597.92\n",
      "15  1/26/23 -0.09         -6.5  -1,340.00  25,251.33\n",
      "16  1/26/23 -0.07         -6.5     635.00  25,879.76\n",
      "18  1/27/23 -0.12         -6.5     110.00  25,983.14\n",
      "19  1/27/23 -0.07         -6.5     290.00  26,266.57\n"
     ]
    }
   ],
   "source": [
    "print(ira_calc.head(12))"
   ]
  },
  {
   "cell_type": "markdown",
   "id": "92933919",
   "metadata": {},
   "source": [
    "It turns out when I imported the data, there were some unexpected data types. So below I used pandas to change the data in the Date, Amount, and Balance columns to the correct Python data types so I could peform calculations with them."
   ]
  },
  {
   "cell_type": "code",
   "execution_count": 12,
   "id": "3768c911",
   "metadata": {},
   "outputs": [
    {
     "name": "stdout",
     "output_type": "stream",
     "text": [
      "            Fees  Commissions   Amount\n",
      "Date                                  \n",
      "2023-01-20 -0.13        -9.75    243.0\n",
      "2023-01-23 -0.13        -7.80   -444.0\n",
      "2023-01-24 -0.11        -7.80   -303.0\n",
      "2023-01-25 -0.10        -7.80    231.0\n",
      "2023-01-26 -0.10        -7.80   -426.0\n",
      "2023-01-27 -0.13        -7.80    279.0\n",
      "2023-01-30 -0.19       -11.70  -1587.0\n",
      "2023-01-31 -0.11        -7.80   1197.0\n",
      "2023-02-01 -0.11        -7.80     69.0\n",
      "2023-02-02 -0.34        -7.80  12135.0\n",
      "2023-02-03 -0.27       -20.80 -82800.0\n",
      "2023-02-06 -0.28       -20.80    288.0\n",
      "2023-02-07 -0.26       -20.80   -208.0\n",
      "2023-02-08 -0.26       -20.80   1680.0\n",
      "2023-02-09 -0.26       -20.80   1480.0\n",
      "2023-02-10 -0.26       -20.80   -952.0\n",
      "2023-02-13 -0.28       -20.80   3224.0\n",
      "2023-02-14 -0.25       -20.80   1160.0\n",
      "2023-02-15 -0.24       -20.80    720.0\n",
      "2023-02-16 -0.24       -20.80   1176.0\n"
     ]
    }
   ],
   "source": [
    "# convert the 'date' column to a datetime data type\n",
    "#df['date'] = pd.to_datetime(df['date'])\n",
    "\n",
    "margin_calc['Date'] = pd.to_datetime(margin_calc['Date'])\n",
    "margin_calc['Amount'] = pd.to_numeric(margin_calc['Amount'].str.replace(',', ''))\n",
    "margin_calc['Balance'] = pd.to_numeric(margin_calc['Balance'].str.replace(',', ''))\n",
    "day_sums = margin_calc.groupby(['Date'])[['Fees', 'Commissions', 'Amount']].sum()\n",
    "print(day_sums.head(20))"
   ]
  },
  {
   "cell_type": "code",
   "execution_count": 13,
   "id": "5ad99a3b",
   "metadata": {},
   "outputs": [
    {
     "name": "stdout",
     "output_type": "stream",
     "text": [
      "            Fees  Commissions   Amount\n",
      "Date                                  \n",
      "2023-01-20 -0.14        -13.0    305.0\n",
      "2023-01-23 -0.18        -13.0   -600.0\n",
      "2023-01-24 -0.17        -13.0   -495.0\n",
      "2023-01-25 -0.14        -13.0    440.0\n",
      "2023-01-26 -0.16        -13.0   -705.0\n",
      "2023-01-27 -0.19        -13.0    400.0\n",
      "2023-01-30 -0.15        -13.0   -270.0\n",
      "2023-01-31 -0.17        -13.0   1985.0\n",
      "2023-02-01 -0.17        -13.0    115.0\n",
      "2023-02-02 -1.82        -13.0  95535.0\n",
      "2023-02-03 -0.14         -3.9  -6617.0\n",
      "2023-02-06 -0.06         -2.6    238.0\n",
      "2023-02-07 -0.06         -2.6     34.0\n",
      "2023-02-08 -0.06         -2.6    191.0\n",
      "2023-02-09 -0.06         -2.6    188.0\n",
      "2023-02-10 -0.06         -2.6     24.0\n",
      "2023-02-13 -0.06         -2.6    403.0\n",
      "2023-02-14 -0.06         -2.6    141.0\n",
      "2023-02-15 -0.06         -2.6     91.0\n",
      "2023-02-16 -0.06         -2.6    151.0\n"
     ]
    }
   ],
   "source": [
    "# convert the 'date' column to a datetime data type\n",
    "#df['date'] = pd.to_datetime(df['date'])\n",
    "\n",
    "ira_calc['Date'] = pd.to_datetime(ira_calc['Date'])\n",
    "ira_calc['Amount'] = pd.to_numeric(ira_calc['Amount'].str.replace(',', ''))\n",
    "ira_calc['Balance'] = pd.to_numeric(ira_calc['Balance'].str.replace(',', ''))\n",
    "iradays = ira_calc.groupby(['Date'])[['Fees', 'Commissions', 'Amount']].sum()\n",
    "print(iradays.head(20))"
   ]
  },
  {
   "cell_type": "code",
   "execution_count": 14,
   "id": "eac950ff",
   "metadata": {},
   "outputs": [],
   "source": [
    "iradays['Result'] = iradays['Fees'] + iradays['Commissions'] + iradays['Amount']"
   ]
  },
  {
   "cell_type": "code",
   "execution_count": 15,
   "id": "4b2f3426",
   "metadata": {},
   "outputs": [],
   "source": [
    "day_sums['Result'] = day_sums['Fees'] + day_sums['Commissions'] + day_sums['Amount']"
   ]
  },
  {
   "cell_type": "code",
   "execution_count": 16,
   "id": "ebbc9dd2",
   "metadata": {},
   "outputs": [
    {
     "name": "stdout",
     "output_type": "stream",
     "text": [
      "            Fees  Commissions  Amount   Result\n",
      "Date                                          \n",
      "2023-04-03 -0.15        -13.0   710.0   696.85\n",
      "2023-04-04 -0.14        -13.0   110.0    96.86\n",
      "2023-04-05 -0.14        -13.0   845.0   831.86\n",
      "2023-04-06 -0.14        -13.0  1065.0  1051.86\n",
      "2023-04-10 -0.14        -13.0   425.0   411.86\n",
      "2023-04-11 -0.14        -13.0  -475.0  -488.14\n",
      "2023-04-12 -0.14        -13.0   600.0   586.86\n",
      "2023-04-13 -0.14        -13.0   590.0   576.86\n",
      "2023-04-14 -0.14        -13.0    95.0    81.86\n",
      "2023-04-17 -0.14        -13.0   815.0   801.86\n",
      "2023-04-18 -0.14        -13.0   220.0   206.86\n",
      "2023-04-19 -0.14        -13.0   610.0   596.86\n",
      "2023-04-20 -0.15        -13.0   835.0   821.85\n",
      "2023-04-21 -0.14        -13.0   705.0   691.86\n"
     ]
    }
   ],
   "source": [
    "mv50k = day_sums.iloc[50:]\n",
    "print(mv50k)"
   ]
  },
  {
   "cell_type": "code",
   "execution_count": 17,
   "id": "cb1c0bca",
   "metadata": {},
   "outputs": [
    {
     "name": "stdout",
     "output_type": "stream",
     "text": [
      "            Fees  Commissions  Amount  Result\n",
      "Date                                         \n",
      "2023-04-03 -0.06         -5.2   284.0  278.74\n",
      "2023-04-04 -0.06         -5.2    36.0   30.74\n",
      "2023-04-05 -0.06         -5.2   334.0  328.74\n",
      "2023-04-06 -0.06         -5.2   430.0  424.74\n",
      "2023-04-10 -0.06         -5.2   152.0  146.74\n",
      "2023-04-11 -0.06         -5.2  -188.0 -193.26\n",
      "2023-04-12 -0.06         -5.2   244.0  238.74\n",
      "2023-04-13 -0.06         -5.2   236.0  230.74\n",
      "2023-04-14 -0.06         -5.2    40.0   34.74\n",
      "2023-04-17 -0.06         -5.2   326.0  320.74\n",
      "2023-04-18 -0.06         -5.2    72.0   66.74\n",
      "2023-04-19 -0.06         -5.2   242.0  236.74\n",
      "2023-04-20 -0.06         -5.2   336.0  330.74\n",
      "2023-04-21 -0.06         -5.2   300.0  294.74\n"
     ]
    }
   ],
   "source": [
    "mv20k = iradays.iloc[50:]\n",
    "print(mv20k)"
   ]
  },
  {
   "cell_type": "code",
   "execution_count": 18,
   "id": "317a1324",
   "metadata": {},
   "outputs": [
    {
     "data": {
      "image/png": "[encoded data removed]",
      "text/plain": [
       "<Figure size 1152x288 with 1 Axes>"
      ]
     },
     "metadata": {
      "needs_background": "light"
     },
     "output_type": "display_data"
    }
   ],
   "source": [
    "fig = plt.figure(figsize=(16, 4))\n",
    "\n",
    "plt.bar(mv50k.index, mv50k['Result'])\n",
    "plt.ylim(-500, 1250)\n",
    "plt.xlabel('Date')\n",
    "plt.ylabel('Result')\n",
    "plt.title('$50,000 Money Volcano Results')\n",
    "plt.show()"
   ]
  },
  {
   "cell_type": "code",
   "execution_count": 19,
   "id": "61e0d898",
   "metadata": {},
   "outputs": [
    {
     "data": {
      "image/png": "[encoded data removed]",
      "text/plain": [
       "<Figure size 1152x288 with 1 Axes>"
      ]
     },
     "metadata": {
      "needs_background": "light"
     },
     "output_type": "display_data"
    }
   ],
   "source": [
    "#print(day_sums.columns)\n",
    "\n",
    "fig = plt.figure(figsize=(16, 4))\n",
    "\n",
    "plt.bar(mv20k.index, mv20k['Result'])\n",
    "plt.ylim(-200, 650)\n",
    "plt.xlabel('Date')\n",
    "plt.ylabel('Result')\n",
    "plt.title('$20,000 Money Volcano Results')\n",
    "plt.show()"
   ]
  },
  {
   "cell_type": "markdown",
   "id": "96923def",
   "metadata": {},
   "source": [
    "I'm rather pleased with how this simulation performed. During the first 14 trading days of April 2023, both accounts made money 13 out of 14 days! Only April 11 proved to be a modest setback. That's a 93% success rate! MONEY VOLCANO appears to work!"
   ]
  },
  {
   "cell_type": "code",
   "execution_count": null,
   "id": "a1a4c0f8",
   "metadata": {},
   "outputs": [],
   "source": []
  }
 ],
 "metadata": {
  "kernelspec": {
   "display_name": "Python 3 (ipykernel)",
   "language": "python",
   "name": "python3"
  },
  "language_info": {
   "codemirror_mode": {
    "name": "ipython",
    "version": 3
   },
   "file_extension": ".py",
   "mimetype": "text/x-python",
   "name": "python",
   "nbconvert_exporter": "python",
   "pygments_lexer": "ipython3",
   "version": "3.9.12"
  }
 },
 "nbformat": 4,
 "nbformat_minor": 5
}
